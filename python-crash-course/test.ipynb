{
 "cells": [
  {
   "cell_type": "code",
   "execution_count": 1,
   "id": "5da16771-284f-4530-920e-3732c2646164",
   "metadata": {},
   "outputs": [],
   "source": [
    "seq=[1,2,3,4,5]"
   ]
  },
  {
   "cell_type": "code",
   "execution_count": 2,
   "id": "fa705c2b-e3fc-4c7a-8ef5-efa33f7f4167",
   "metadata": {},
   "outputs": [
    {
     "name": "stdout",
     "output_type": "stream",
     "text": [
      "1\n",
      "2\n",
      "3\n",
      "4\n",
      "5\n"
     ]
    }
   ],
   "source": [
    "for item in seq:\n",
    "    print(item)"
   ]
  },
  {
   "cell_type": "code",
   "execution_count": 3,
   "id": "d16c9bfd-6b4f-4a83-8d39-00d258c27cf4",
   "metadata": {},
   "outputs": [],
   "source": [
    "seq=[10,2,13,4,5]"
   ]
  },
  {
   "cell_type": "code",
   "execution_count": 6,
   "id": "1c28ed87-6f42-49c4-a71b-5c2e11bf5040",
   "metadata": {},
   "outputs": [
    {
     "name": "stdout",
     "output_type": "stream",
     "text": [
      "10\n",
      "2\n",
      "13\n",
      "4\n",
      "5\n"
     ]
    }
   ],
   "source": [
    "for jelly in seq:\n",
    "    print(jelly)"
   ]
  },
  {
   "cell_type": "code",
   "execution_count": 7,
   "id": "c6841299-5d1c-4fce-a24f-ac5f255f5d4b",
   "metadata": {},
   "outputs": [
    {
     "name": "stdout",
     "output_type": "stream",
     "text": [
      "hello\n",
      "hello\n",
      "hello\n",
      "hello\n",
      "hello\n"
     ]
    }
   ],
   "source": [
    "for jelly in seq:\n",
    "    print('hello')"
   ]
  },
  {
   "cell_type": "code",
   "execution_count": 9,
   "id": "fb131037-a0b8-4f4a-b062-36a039fc864a",
   "metadata": {},
   "outputs": [
    {
     "name": "stdout",
     "output_type": "stream",
     "text": [
      "i is 1\n",
      "i is 2\n",
      "i is 3\n",
      "i is 4\n"
     ]
    }
   ],
   "source": [
    "i = 1\n",
    "\n",
    "while i < 5:\n",
    "    print(('i is {}'. format(i)))\n",
    "    i+=1"
   ]
  },
  {
   "cell_type": "code",
   "execution_count": 3,
   "id": "78748dbc-424b-48b1-87ab-c134ea907cf6",
   "metadata": {},
   "outputs": [
    {
     "name": "stdout",
     "output_type": "stream",
     "text": [
      "0\n",
      "1\n",
      "2\n",
      "3\n",
      "4\n",
      "5\n",
      "6\n",
      "7\n",
      "8\n",
      "9\n"
     ]
    }
   ],
   "source": [
    "for item in range(10):\n",
    "    print(item)"
   ]
  },
  {
   "cell_type": "code",
   "execution_count": 5,
   "id": "d7008a33-c889-4ac2-9fff-ccc00d93fcdd",
   "metadata": {},
   "outputs": [
    {
     "name": "stdout",
     "output_type": "stream",
     "text": [
      "5\n",
      "6\n",
      "7\n",
      "8\n",
      "9\n"
     ]
    }
   ],
   "source": [
    "for item in range(5,10):\n",
    "    print(item)"
   ]
  },
  {
   "cell_type": "code",
   "execution_count": 6,
   "id": "5fd5bb2d-db04-4df3-832d-3c0705229892",
   "metadata": {},
   "outputs": [
    {
     "name": "stdout",
     "output_type": "stream",
     "text": [
      "5\n",
      "7\n",
      "9\n"
     ]
    }
   ],
   "source": [
    "for item in range(5, 10 , 2):\n",
    "    print(item)"
   ]
  },
  {
   "cell_type": "code",
   "execution_count": 7,
   "id": "757f2730-309c-4ac8-a086-8ee0f6cd9108",
   "metadata": {},
   "outputs": [],
   "source": [
    "my_list=['Shamim', 100, 45.11]"
   ]
  },
  {
   "cell_type": "code",
   "execution_count": 8,
   "id": "97e59da8-195b-414b-92e8-a59415c259a6",
   "metadata": {},
   "outputs": [
    {
     "name": "stdout",
     "output_type": "stream",
     "text": [
      "Shamim\n",
      "100\n",
      "45.11\n"
     ]
    }
   ],
   "source": [
    "for index in my_list:\n",
    "    print(index)"
   ]
  },
  {
   "cell_type": "code",
   "execution_count": 13,
   "id": "21b6bfed-2a82-495d-9d90-1bf6cf4e018e",
   "metadata": {},
   "outputs": [],
   "source": [
    "my_list=['shamim', 100, 45.5,'new','old',33.2]"
   ]
  },
  {
   "cell_type": "code",
   "execution_count": 18,
   "id": "649073c7-dc3f-40a3-b2cb-c2a77b0a7361",
   "metadata": {},
   "outputs": [
    {
     "name": "stdout",
     "output_type": "stream",
     "text": [
      "33.2\n",
      "old\n",
      "new\n",
      "45.5\n",
      "100\n",
      "shamim\n"
     ]
    }
   ],
   "source": [
    "index=len(my_list)-1\n",
    "while index>=0:\n",
    "    print(my_list[index])\n",
    "    index-=1"
   ]
  },
  {
   "cell_type": "code",
   "execution_count": 16,
   "id": "9b723a35-5d64-489c-b904-414d6880dafb",
   "metadata": {},
   "outputs": [
    {
     "data": {
      "text/plain": [
       "6"
      ]
     },
     "execution_count": 16,
     "metadata": {},
     "output_type": "execute_result"
    }
   ],
   "source": [
    "len(my_list)"
   ]
  },
  {
   "cell_type": "code",
   "execution_count": 17,
   "id": "72a9d089-acc9-49b1-a92a-56bc8068ffd7",
   "metadata": {},
   "outputs": [
    {
     "data": {
      "text/plain": [
       "33.2"
      ]
     },
     "execution_count": 17,
     "metadata": {},
     "output_type": "execute_result"
    }
   ],
   "source": [
    "my_list[len(my_list)-1]"
   ]
  },
  {
   "cell_type": "code",
   "execution_count": 19,
   "id": "d3598e6c-528f-4728-a206-795a9e546159",
   "metadata": {},
   "outputs": [],
   "source": [
    "num = 45\n",
    "num2 = 10"
   ]
  },
  {
   "cell_type": "code",
   "execution_count": 24,
   "id": "b236d765-3f3a-4538-a978-fad3e5a7abf8",
   "metadata": {},
   "outputs": [
    {
     "name": "stdout",
     "output_type": "stream",
     "text": [
      "45 is bigger than 10\n"
     ]
    }
   ],
   "source": [
    "if num<num2:\n",
    "    print(\"{} is smaller than {}\".format(num, num2))\n",
    "\n",
    "else:\n",
    "    print(\"{} is bigger than {}\".format(num, num2))"
   ]
  },
  {
   "cell_type": "code",
   "execution_count": 25,
   "id": "2daa4a75-6686-438a-b7c2-ca52a98336cd",
   "metadata": {},
   "outputs": [
    {
     "name": "stdout",
     "output_type": "stream",
     "text": [
      "Not match\n"
     ]
    }
   ],
   "source": [
    "name1=\"shamim\"\n",
    "name2=\"rafi\"\n",
    "\n",
    "if name1 == name2:\n",
    "    print(\"Match\")\n",
    "else:\n",
    "    print(\"Not match\")"
   ]
  },
  {
   "cell_type": "code",
   "execution_count": 26,
   "id": "bf3d1687-d19e-45bb-8935-114ca5a0073c",
   "metadata": {},
   "outputs": [
    {
     "name": "stdout",
     "output_type": "stream",
     "text": [
      "Not Match\n"
     ]
    }
   ],
   "source": [
    "name1=\"shamim\"\n",
    "name2=\"rafi\"\n",
    "\n",
    "if name1 != name2:\n",
    "    print(\"Not Match\")\n",
    "else:\n",
    "    print(\"Match\")"
   ]
  },
  {
   "cell_type": "code",
   "execution_count": 27,
   "id": "71c4bb10-1832-4f78-8f4f-569094980c98",
   "metadata": {},
   "outputs": [],
   "source": [
    "num=37"
   ]
  },
  {
   "cell_type": "code",
   "execution_count": 30,
   "id": "e023cc8d-b785-4ffd-885d-f164ea49a326",
   "metadata": {},
   "outputs": [
    {
     "name": "stdout",
     "output_type": "stream",
     "text": [
      "37 is less than 100\n"
     ]
    }
   ],
   "source": [
    "if num < 100:\n",
    "    print(\"{} is less than 100\".format(num))\n",
    "elif num<50:\n",
    "    print(\"{} is less than 50\".format(num))\n",
    "else:\n",
    "    print('This is not a number')"
   ]
  },
  {
   "cell_type": "code",
   "execution_count": 36,
   "id": "8b221e87-eb50-4fed-8aa5-b1355c8facc2",
   "metadata": {},
   "outputs": [
    {
     "name": "stdin",
     "output_type": "stream",
     "text": [
      "User Input:  56\n"
     ]
    }
   ],
   "source": [
    "num=int(input('User Input: '))"
   ]
  },
  {
   "cell_type": "code",
   "execution_count": 37,
   "id": "09ba2368-804d-46ff-9d3b-2dbf9ba14736",
   "metadata": {},
   "outputs": [
    {
     "name": "stdout",
     "output_type": "stream",
     "text": [
      "56 is less than 100\n"
     ]
    }
   ],
   "source": [
    "if num < 100:\n",
    "    print(\"{} is less than 100\".format(num))\n",
    "elif num<50:\n",
    "    print(\"{} is less than 50\".format(num))\n",
    "else:\n",
    "    print('This is not a number')"
   ]
  },
  {
   "cell_type": "code",
   "execution_count": null,
   "id": "7514f36c-e376-4882-ae5c-f5f82d9588d3",
   "metadata": {},
   "outputs": [
    {
     "name": "stdin",
     "output_type": "stream",
     "text": [
      "Do you want to start? yes/no yes\n",
      "First Number:  20\n"
     ]
    }
   ],
   "source": [
    "while True:\n",
    "    play= input(\"Do you want to start? yes/no\")\n",
    "    if play=='no':\n",
    "        break\n",
    "\n",
    "    \n",
    "    num1 = int(input(\"First Number: \"))\n",
    "    num2 = int(input(\"Second Number: \"))\n",
    "    operation = input(\"Which operation do you want: \")\n",
    "\n",
    "    if operation == '+':\n",
    "        print(\"Sum of {} and {} is {}\".format(num1, num2, num1+num2))\n",
    "    elif operation == '-':\n",
    "        print(\"Subtraction of {} and {} is {}\".format(num1, num2, num1-num2))\n",
    "    elif operation == '*':\n",
    "        print(\"Multiple of {} and {} is {}\".format(num1, num2, num1*num2))\n",
    "    else:\n",
    "        print(\"Division of {} and {} is {}\".format(num1, num2, num1/num2))\n",
    "\n",
    "    "
   ]
  },
  {
   "cell_type": "code",
   "execution_count": 2,
   "id": "a1997f90-8915-46f0-a760-860f7675ed1d",
   "metadata": {},
   "outputs": [
    {
     "name": "stdout",
     "output_type": "stream",
     "text": [
      "[0.0, 0.5, 1.0, 1.5, 2.0, 2.5, 3.0, 3.5, 4.0, 4.5]\n"
     ]
    }
   ],
   "source": [
    "my_list=[]\n",
    "\n",
    "for data in range(0,10):\n",
    "    my_list.append(data/2)\n",
    "\n",
    "print(my_list)"
   ]
  },
  {
   "cell_type": "code",
   "execution_count": 3,
   "id": "1855c253-fdd9-455c-92d7-0a2ee2a6f038",
   "metadata": {},
   "outputs": [],
   "source": [
    "my_list=[data/2 for data in range(0,10)]\n",
    "print(my_list)"
   ]
  },
  {
   "cell_type": "code",
   "execution_count": 4,
   "id": "9a20541c-9a7d-44e0-b465-80df46641c7a",
   "metadata": {},
   "outputs": [
    {
     "data": {
      "text/plain": [
       "[0.0, 0.5, 1.0, 1.5, 2.0, 2.5, 3.0, 3.5, 4.0, 4.5]"
      ]
     },
     "execution_count": 4,
     "metadata": {},
     "output_type": "execute_result"
    }
   ],
   "source": []
  },
  {
   "cell_type": "code",
   "execution_count": 6,
   "id": "40c9ec32-159d-4950-8ca4-154a0ec11645",
   "metadata": {},
   "outputs": [],
   "source": []
  },
  {
   "cell_type": "code",
   "execution_count": 7,
   "id": "1b532c82-8498-4b6c-84cc-fdd901ba5504",
   "metadata": {},
   "outputs": [],
   "source": []
  },
  {
   "cell_type": "code",
   "execution_count": 11,
   "id": "5ab7f0e4-b0fe-40f8-8192-6886e14b0e71",
   "metadata": {},
   "outputs": [
    {
     "name": "stdout",
     "output_type": "stream",
     "text": [
      "[5.0, 10.0, 15.0, 25.0]\n"
     ]
    }
   ],
   "source": [
    "def divided_by_2(num):\n",
    "    return num/2\n",
    "\n",
    "my_list = [10,20,30,50]\n",
    "new_list=[]\n",
    "\n",
    "for num in my_list:\n",
    "    new_list.append(divided_by_2(num))\n",
    "print(new_list)"
   ]
  },
  {
   "cell_type": "code",
   "execution_count": 16,
   "id": "5bee6136-e350-495e-bcfa-5d57757ab35d",
   "metadata": {},
   "outputs": [
    {
     "data": {
      "text/plain": [
       "[5.0, 10.0, 15.0, 25.0]"
      ]
     },
     "execution_count": 16,
     "metadata": {},
     "output_type": "execute_result"
    }
   ],
   "source": [
    "def divided_by_2(num):\n",
    "    return num/2\n",
    "\n",
    "my_list = [10,20,30,50]\n",
    "\n",
    "list(map(divided_by_2, my_list))"
   ]
  },
  {
   "cell_type": "code",
   "execution_count": 25,
   "id": "e30443ab-6712-46c5-a6aa-e06996d803e4",
   "metadata": {},
   "outputs": [
    {
     "data": {
      "text/plain": [
       "[10, 30, 50]"
      ]
     },
     "execution_count": 25,
     "metadata": {},
     "output_type": "execute_result"
    }
   ],
   "source": [
    "def mode_by_2(num):\n",
    "    return num%2 == 0 \n",
    "\n",
    "my_list = [10,17,30,50]\n",
    "\n",
    "list(filter(mode_by_2, my_list))"
   ]
  },
  {
   "cell_type": "code",
   "execution_count": 22,
   "id": "d4f6ad55-864e-4084-ad1d-2dcb1f520fc0",
   "metadata": {},
   "outputs": [
    {
     "data": {
      "text/plain": [
       "0"
      ]
     },
     "execution_count": 22,
     "metadata": {},
     "output_type": "execute_result"
    }
   ],
   "source": [
    "10%2"
   ]
  },
  {
   "cell_type": "code",
   "execution_count": 24,
   "id": "b90fd4ff-a97a-4586-8d40-2eb08e172f77",
   "metadata": {},
   "outputs": [
    {
     "data": {
      "text/plain": [
       "1"
      ]
     },
     "execution_count": 24,
     "metadata": {},
     "output_type": "execute_result"
    }
   ],
   "source": [
    "17%2"
   ]
  },
  {
   "cell_type": "code",
   "execution_count": null,
   "id": "ca9d28de-dcfd-416c-8cf9-9b410902fd79",
   "metadata": {},
   "outputs": [],
   "source": []
  }
 ],
 "metadata": {
  "kernelspec": {
   "display_name": "Python 3 (ipykernel)",
   "language": "python",
   "name": "python3"
  },
  "language_info": {
   "codemirror_mode": {
    "name": "ipython",
    "version": 3
   },
   "file_extension": ".py",
   "mimetype": "text/x-python",
   "name": "python",
   "nbconvert_exporter": "python",
   "pygments_lexer": "ipython3",
   "version": "3.12.9"
  }
 },
 "nbformat": 4,
 "nbformat_minor": 5
}
