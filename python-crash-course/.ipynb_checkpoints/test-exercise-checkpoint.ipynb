{
 "cells": [
  {
   "cell_type": "code",
   "execution_count": 4,
   "id": "5d959336-3a6e-4789-901d-f8754bb0b31b",
   "metadata": {},
   "outputs": [
    {
     "data": {
      "text/plain": [
       "1"
      ]
     },
     "execution_count": 4,
     "metadata": {},
     "output_type": "execute_result"
    }
   ],
   "source": [
    "1 #this is integer "
   ]
  },
  {
   "cell_type": "code",
   "execution_count": 5,
   "id": "0a8ae604-e078-4745-8451-8450eaff70e7",
   "metadata": {},
   "outputs": [
    {
     "data": {
      "text/plain": [
       "1.2"
      ]
     },
     "execution_count": 5,
     "metadata": {},
     "output_type": "execute_result"
    }
   ],
   "source": [
    "1.2"
   ]
  },
  {
   "cell_type": "code",
   "execution_count": 6,
   "id": "08dfcd56-335b-4f5f-b71c-de7ca2416ed0",
   "metadata": {},
   "outputs": [
    {
     "data": {
      "text/plain": [
       "4"
      ]
     },
     "execution_count": 6,
     "metadata": {},
     "output_type": "execute_result"
    }
   ],
   "source": [
    "1+3"
   ]
  },
  {
   "cell_type": "code",
   "execution_count": 8,
   "id": "c06b813b-7f39-4c22-8ab7-38fa74533176",
   "metadata": {},
   "outputs": [
    {
     "data": {
      "text/plain": [
       "1"
      ]
     },
     "execution_count": 8,
     "metadata": {},
     "output_type": "execute_result"
    }
   ],
   "source": [
    "2-1"
   ]
  },
  {
   "cell_type": "code",
   "execution_count": 9,
   "id": "3aa97de1-75e2-429c-8835-2adfbea44577",
   "metadata": {},
   "outputs": [
    {
     "data": {
      "text/plain": [
       "10"
      ]
     },
     "execution_count": 9,
     "metadata": {},
     "output_type": "execute_result"
    }
   ],
   "source": [
    "2*5"
   ]
  },
  {
   "cell_type": "code",
   "execution_count": 11,
   "id": "4f0d43e0-c016-4cd2-806e-85c99e4c28b9",
   "metadata": {},
   "outputs": [
    {
     "data": {
      "text/plain": [
       "3.0"
      ]
     },
     "execution_count": 11,
     "metadata": {},
     "output_type": "execute_result"
    }
   ],
   "source": [
    "6/2.0"
   ]
  },
  {
   "cell_type": "code",
   "execution_count": 12,
   "id": "75d6d413-761a-4594-8560-9cfdc6464c4f",
   "metadata": {},
   "outputs": [
    {
     "data": {
      "text/plain": [
       "20"
      ]
     },
     "execution_count": 12,
     "metadata": {},
     "output_type": "execute_result"
    }
   ],
   "source": [
    "5+2*5+5"
   ]
  },
  {
   "cell_type": "code",
   "execution_count": 13,
   "id": "fd2215f8-de49-4293-ad23-1cde2c541a4f",
   "metadata": {},
   "outputs": [
    {
     "data": {
      "text/plain": [
       "70"
      ]
     },
     "execution_count": 13,
     "metadata": {},
     "output_type": "execute_result"
    }
   ],
   "source": [
    "(5+2)*(5+5)"
   ]
  },
  {
   "cell_type": "code",
   "execution_count": 14,
   "id": "fc64bb87-9927-44da-a455-620bebd990f2",
   "metadata": {},
   "outputs": [
    {
     "data": {
      "text/plain": [
       "'This is a string'"
      ]
     },
     "execution_count": 14,
     "metadata": {},
     "output_type": "execute_result"
    }
   ],
   "source": [
    "'This is a string'"
   ]
  },
  {
   "cell_type": "code",
   "execution_count": 17,
   "id": "bc3c0934-0a90-4452-955f-017f4cfb2282",
   "metadata": {},
   "outputs": [
    {
     "data": {
      "text/plain": [
       "'This is another string'"
      ]
     },
     "execution_count": 17,
     "metadata": {},
     "output_type": "execute_result"
    }
   ],
   "source": [
    "\"This is another string\""
   ]
  },
  {
   "cell_type": "code",
   "execution_count": 19,
   "id": "df51d3e3-8d46-497d-9c2b-0436f5fe8a41",
   "metadata": {},
   "outputs": [
    {
     "data": {
      "text/plain": [
       "\"I can't go there\""
      ]
     },
     "execution_count": 19,
     "metadata": {},
     "output_type": "execute_result"
    }
   ],
   "source": [
    "\"I can't go there\""
   ]
  },
  {
   "cell_type": "code",
   "execution_count": 20,
   "id": "347aaa1c-50b0-43a4-991d-90b14685564e",
   "metadata": {},
   "outputs": [
    {
     "data": {
      "text/plain": [
       "'Shamim Rafi'"
      ]
     },
     "execution_count": 20,
     "metadata": {},
     "output_type": "execute_result"
    }
   ],
   "source": [
    "\"Shamim Rafi\""
   ]
  },
  {
   "cell_type": "code",
   "execution_count": 21,
   "id": "c84cdece-517c-4717-853b-8e2c7cb6d13d",
   "metadata": {},
   "outputs": [],
   "source": [
    "name=\"Shamim Rafi\""
   ]
  },
  {
   "cell_type": "code",
   "execution_count": 22,
   "id": "43ae0b6c-c0f5-45c6-8fe9-06e2a7e8a52e",
   "metadata": {},
   "outputs": [
    {
     "data": {
      "text/plain": [
       "'Shamim Rafi'"
      ]
     },
     "execution_count": 22,
     "metadata": {},
     "output_type": "execute_result"
    }
   ],
   "source": [
    "name"
   ]
  },
  {
   "cell_type": "code",
   "execution_count": 23,
   "id": "6de222c6-3101-4e91-bcba-0ea131c144e9",
   "metadata": {},
   "outputs": [],
   "source": [
    "name=\"Abu Sayeed\""
   ]
  },
  {
   "cell_type": "code",
   "execution_count": 24,
   "id": "2210bc10-b0a8-426a-a642-fe859f9f8418",
   "metadata": {},
   "outputs": [
    {
     "data": {
      "text/plain": [
       "'Abu Sayeed'"
      ]
     },
     "execution_count": 24,
     "metadata": {},
     "output_type": "execute_result"
    }
   ],
   "source": [
    "name"
   ]
  },
  {
   "cell_type": "code",
   "execution_count": 25,
   "id": "3b54b373-38aa-4fa9-9e10-4115b4ae82f2",
   "metadata": {},
   "outputs": [],
   "source": [
    "friend=\"Shamim Rafi\""
   ]
  },
  {
   "cell_type": "code",
   "execution_count": 26,
   "id": "3bffcfaa-82f2-4f04-b3ff-bbd5322e4d0a",
   "metadata": {},
   "outputs": [
    {
     "data": {
      "text/plain": [
       "'Shamim Rafi'"
      ]
     },
     "execution_count": 26,
     "metadata": {},
     "output_type": "execute_result"
    }
   ],
   "source": [
    "friend"
   ]
  },
  {
   "cell_type": "code",
   "execution_count": 27,
   "id": "89112d36-7f9a-46b0-b117-11cb7f4d18ae",
   "metadata": {},
   "outputs": [
    {
     "data": {
      "text/plain": [
       "'S'"
      ]
     },
     "execution_count": 27,
     "metadata": {},
     "output_type": "execute_result"
    }
   ],
   "source": [
    "friend[0]"
   ]
  },
  {
   "cell_type": "code",
   "execution_count": 28,
   "id": "d1c0f535-8340-4e71-a166-0b7182218dd7",
   "metadata": {},
   "outputs": [
    {
     "data": {
      "text/plain": [
       "'h'"
      ]
     },
     "execution_count": 28,
     "metadata": {},
     "output_type": "execute_result"
    }
   ],
   "source": [
    "friend[1]"
   ]
  },
  {
   "cell_type": "code",
   "execution_count": 29,
   "id": "5297b1b7-5249-4a4d-b56e-3e57b04b2656",
   "metadata": {},
   "outputs": [
    {
     "data": {
      "text/plain": [
       "'a'"
      ]
     },
     "execution_count": 29,
     "metadata": {},
     "output_type": "execute_result"
    }
   ],
   "source": [
    "friend[2]"
   ]
  },
  {
   "cell_type": "code",
   "execution_count": 31,
   "id": "6efa52a4-4829-490d-8a6a-73fb974d7cc2",
   "metadata": {},
   "outputs": [
    {
     "data": {
      "text/plain": [
       "'Shamim'"
      ]
     },
     "execution_count": 31,
     "metadata": {},
     "output_type": "execute_result"
    }
   ],
   "source": [
    "friend[0:6]"
   ]
  },
  {
   "cell_type": "code",
   "execution_count": 32,
   "id": "13c6b590-28f6-43fc-8eb2-115217746d1c",
   "metadata": {},
   "outputs": [
    {
     "data": {
      "text/plain": [
       "'Rafi'"
      ]
     },
     "execution_count": 32,
     "metadata": {},
     "output_type": "execute_result"
    }
   ],
   "source": [
    "friend[7:11]"
   ]
  },
  {
   "cell_type": "code",
   "execution_count": 33,
   "id": "ff9cfc11-1af4-44f0-a2c7-0e634db01be9",
   "metadata": {},
   "outputs": [
    {
     "data": {
      "text/plain": [
       "'i'"
      ]
     },
     "execution_count": 33,
     "metadata": {},
     "output_type": "execute_result"
    }
   ],
   "source": [
    "friend[-1]"
   ]
  },
  {
   "cell_type": "code",
   "execution_count": 36,
   "id": "af8261c9-09f2-414a-87a4-3433eaec1017",
   "metadata": {},
   "outputs": [
    {
     "data": {
      "text/plain": [
       "'Rafi'"
      ]
     },
     "execution_count": 36,
     "metadata": {},
     "output_type": "execute_result"
    }
   ],
   "source": [
    "friend[-4:]"
   ]
  },
  {
   "cell_type": "code",
   "execution_count": 37,
   "id": "4ee3a729-7f87-47b6-af7f-390f0b4b7db9",
   "metadata": {},
   "outputs": [
    {
     "data": {
      "text/plain": [
       "'Shamim Rafi'"
      ]
     },
     "execution_count": 37,
     "metadata": {},
     "output_type": "execute_result"
    }
   ],
   "source": [
    "friend[0:]"
   ]
  },
  {
   "cell_type": "code",
   "execution_count": 38,
   "id": "5ebbaae9-2474-4fe7-b2b1-f801c2e754cf",
   "metadata": {},
   "outputs": [],
   "source": [
    "hour=80\n",
    "hour_rate=12.82"
   ]
  },
  {
   "cell_type": "code",
   "execution_count": 39,
   "id": "633e90d3-8233-4394-866f-924a145ec11a",
   "metadata": {},
   "outputs": [],
   "source": [
    "total_income=hour*hour_rate"
   ]
  },
  {
   "cell_type": "code",
   "execution_count": 46,
   "id": "719316b4-f5ad-41fd-ac84-bffd42ba77be",
   "metadata": {},
   "outputs": [
    {
     "data": {
      "text/plain": [
       "1025.6"
      ]
     },
     "execution_count": 46,
     "metadata": {},
     "output_type": "execute_result"
    }
   ],
   "source": [
    "total_income"
   ]
  },
  {
   "cell_type": "code",
   "execution_count": null,
   "id": "3c5b08e5-f97e-4e3d-8cd4-6fc1f2111343",
   "metadata": {},
   "outputs": [],
   "source": [
    "# Tax 10%"
   ]
  },
  {
   "cell_type": "code",
   "execution_count": 47,
   "id": "659dffde-455c-433c-a910-f19172897971",
   "metadata": {},
   "outputs": [],
   "source": [
    "tax_rate=10/100"
   ]
  },
  {
   "cell_type": "code",
   "execution_count": 48,
   "id": "34eb8849-b1cf-44af-b109-521830df6d79",
   "metadata": {},
   "outputs": [],
   "source": [
    "my_tax=total_income*tax_rate"
   ]
  },
  {
   "cell_type": "code",
   "execution_count": 49,
   "id": "4ba25559-ade3-4687-a3d3-b7019c7b9cf5",
   "metadata": {},
   "outputs": [
    {
     "data": {
      "text/plain": [
       "102.56"
      ]
     },
     "execution_count": 49,
     "metadata": {},
     "output_type": "execute_result"
    }
   ],
   "source": [
    "my_tax"
   ]
  },
  {
   "cell_type": "code",
   "execution_count": 50,
   "id": "2ecd6072-07df-43ff-9a21-f8116bb8b755",
   "metadata": {},
   "outputs": [],
   "source": [
    "my_base_income= total_income-my_tax"
   ]
  },
  {
   "cell_type": "code",
   "execution_count": 51,
   "id": "680718b9-9959-4bfe-88ab-4942cd28c793",
   "metadata": {},
   "outputs": [
    {
     "data": {
      "text/plain": [
       "923.04"
      ]
     },
     "execution_count": 51,
     "metadata": {},
     "output_type": "execute_result"
    }
   ],
   "source": [
    "my_base_income"
   ]
  },
  {
   "cell_type": "code",
   "execution_count": 57,
   "id": "75d59a67-65ae-4402-8f0d-859af605a1c0",
   "metadata": {},
   "outputs": [],
   "source": [
    "friend1=\"Faisal\""
   ]
  },
  {
   "cell_type": "code",
   "execution_count": 58,
   "id": "3ccaa20c-0678-4d0c-bad0-0f9f98288cc8",
   "metadata": {},
   "outputs": [],
   "source": [
    "friend2=\"Riyad\""
   ]
  },
  {
   "cell_type": "code",
   "execution_count": 61,
   "id": "a5e7b862-8fc6-45c9-9de5-d8e1bee3db94",
   "metadata": {},
   "outputs": [
    {
     "name": "stdout",
     "output_type": "stream",
     "text": [
      "Faisal and Riyad are my roommates\n"
     ]
    }
   ],
   "source": [
    "print(\"{} and {} are my roommates\".format(friend1, friend2))"
   ]
  },
  {
   "cell_type": "code",
   "execution_count": 62,
   "id": "1bb53082-70a0-4c57-91df-a4c1669c6c42",
   "metadata": {},
   "outputs": [],
   "source": [
    "friend3=\"Abbas\""
   ]
  },
  {
   "cell_type": "code",
   "execution_count": 67,
   "id": "217abc6d-1286-4fed-bee2-9cda3587d8c3",
   "metadata": {},
   "outputs": [
    {
     "name": "stdout",
     "output_type": "stream",
     "text": [
      "Faisal, Riyad and Abbas are my roommates, but Faisal is the best one.\n"
     ]
    }
   ],
   "source": [
    "print(\"{}, {} and {} are my roommates, but {} is the best one.\".format(friend1, friend2, friend3, friend1))"
   ]
  },
  {
   "cell_type": "code",
   "execution_count": 68,
   "id": "c2c870a2-4850-4bca-a4c2-bc2cec16d554",
   "metadata": {},
   "outputs": [
    {
     "name": "stdout",
     "output_type": "stream",
     "text": [
      "Faisal, Riyad and Abbas are my roommates, but Faisal is the best one.\n"
     ]
    }
   ],
   "source": [
    "print(\"{a}, {b} and {c} are my roommates, but {a} is the best one.\".format(a=friend1, b=friend2, c=friend3))"
   ]
  },
  {
   "cell_type": "code",
   "execution_count": 75,
   "id": "34e7e05d-802f-43ca-b814-7d3a8444919f",
   "metadata": {},
   "outputs": [
    {
     "name": "stdout",
     "output_type": "stream",
     "text": [
      "Abbas, Faisal and Riyad are my roommates, but Faisal is the best one.\n"
     ]
    }
   ],
   "source": [
    "print(\"{c}, {a} and {b} are my roommates, but {a} is the best one.\".format(a=friend1, b=friend2, c=friend3))"
   ]
  },
  {
   "cell_type": "code",
   "execution_count": null,
   "id": "9ee335db-d060-431f-a372-48d64a11b80d",
   "metadata": {},
   "outputs": [],
   "source": []
  },
  {
   "cell_type": "code",
   "execution_count": null,
   "id": "8ddd9d78-c632-486c-abd6-11eae20c88d3",
   "metadata": {},
   "outputs": [],
   "source": []
  },
  {
   "cell_type": "code",
   "execution_count": null,
   "id": "201ba40e-0c2d-4d3c-9540-1b1ad62f7860",
   "metadata": {},
   "outputs": [],
   "source": []
  },
  {
   "cell_type": "code",
   "execution_count": 77,
   "id": "475428fe-52f3-408f-ae4d-9dbf93a98fc6",
   "metadata": {},
   "outputs": [],
   "source": [
    "my_list= [1,2,3,4,'string']"
   ]
  },
  {
   "cell_type": "code",
   "execution_count": 71,
   "id": "8963f2bc-672a-411d-b073-a20c5af5fab7",
   "metadata": {},
   "outputs": [],
   "source": [
    "my_friend_list= ['faisal', 'riyad', 'abbas','akib'] #python list"
   ]
  },
  {
   "cell_type": "code",
   "execution_count": 78,
   "id": "ba93b314-23ef-4a20-99f8-92de29be0f13",
   "metadata": {},
   "outputs": [],
   "source": [
    "my_friend_list.append('faruk') # Add a new item"
   ]
  },
  {
   "cell_type": "code",
   "execution_count": 79,
   "id": "de7d5681-341f-461e-b12e-56bceced12b0",
   "metadata": {},
   "outputs": [
    {
     "data": {
      "text/plain": [
       "['faisal', 'riyad', 'abbas', 'akib', 'faruk']"
      ]
     },
     "execution_count": 79,
     "metadata": {},
     "output_type": "execute_result"
    }
   ],
   "source": [
    "my_friend_list"
   ]
  },
  {
   "cell_type": "code",
   "execution_count": 80,
   "id": "15379de8-f826-489b-835b-7d7f742dc552",
   "metadata": {},
   "outputs": [],
   "source": [
    "my_friend_list.append('ryhan')"
   ]
  },
  {
   "cell_type": "code",
   "execution_count": 81,
   "id": "d664c02c-1921-42b5-bc87-80ab4cc43356",
   "metadata": {},
   "outputs": [
    {
     "data": {
      "text/plain": [
       "['faisal', 'riyad', 'abbas', 'akib', 'faruk', 'ryhan']"
      ]
     },
     "execution_count": 81,
     "metadata": {},
     "output_type": "execute_result"
    }
   ],
   "source": [
    "my_friend_list"
   ]
  },
  {
   "cell_type": "code",
   "execution_count": 82,
   "id": "51ecb7c1-7b15-4584-a9e7-074a8415f158",
   "metadata": {},
   "outputs": [
    {
     "data": {
      "text/plain": [
       "['faisal', 'riyad', 'abbas', 'akib', 'faruk', 'ryhan', 'sayeed', 'sworna']"
      ]
     },
     "execution_count": 82,
     "metadata": {},
     "output_type": "execute_result"
    }
   ],
   "source": []
  },
  {
   "cell_type": "code",
   "execution_count": 84,
   "id": "6ffb6685-b0c0-4d2c-9001-9f30b26f3818",
   "metadata": {},
   "outputs": [],
   "source": [
    "my_friend_list = my_friend_list+['sayeed','sworna']"
   ]
  },
  {
   "cell_type": "code",
   "execution_count": 85,
   "id": "a5541fdd-744b-4248-ae7c-d17d5e648bfa",
   "metadata": {},
   "outputs": [
    {
     "data": {
      "text/plain": [
       "['faisal', 'riyad', 'abbas', 'akib', 'faruk', 'ryhan', 'sayeed', 'sworna']"
      ]
     },
     "execution_count": 85,
     "metadata": {},
     "output_type": "execute_result"
    }
   ],
   "source": [
    "my_friend_list"
   ]
  },
  {
   "cell_type": "code",
   "execution_count": 86,
   "id": "8f93678d-0151-43e6-89af-b233ee2ee9c8",
   "metadata": {},
   "outputs": [
    {
     "data": {
      "text/plain": [
       "'faisal'"
      ]
     },
     "execution_count": 86,
     "metadata": {},
     "output_type": "execute_result"
    }
   ],
   "source": [
    "my_friend_list.pop(0) #Remove"
   ]
  },
  {
   "cell_type": "code",
   "execution_count": 87,
   "id": "c7678b46-89ef-4efb-81aa-48295e84c7ef",
   "metadata": {},
   "outputs": [
    {
     "data": {
      "text/plain": [
       "['riyad', 'abbas', 'akib', 'faruk', 'ryhan', 'sayeed', 'sworna']"
      ]
     },
     "execution_count": 87,
     "metadata": {},
     "output_type": "execute_result"
    }
   ],
   "source": [
    "my_friend_list"
   ]
  },
  {
   "cell_type": "code",
   "execution_count": 88,
   "id": "f290329b-3072-4696-b57a-dd80621a55e1",
   "metadata": {},
   "outputs": [
    {
     "data": {
      "text/plain": [
       "'faruk'"
      ]
     },
     "execution_count": 88,
     "metadata": {},
     "output_type": "execute_result"
    }
   ],
   "source": [
    "my_friend_list.pop(3)"
   ]
  },
  {
   "cell_type": "code",
   "execution_count": 89,
   "id": "3f69ae95-ac0f-4f37-b3f1-a97ee7a711fc",
   "metadata": {},
   "outputs": [
    {
     "data": {
      "text/plain": [
       "['riyad', 'abbas', 'akib', 'ryhan', 'sayeed', 'sworna']"
      ]
     },
     "execution_count": 89,
     "metadata": {},
     "output_type": "execute_result"
    }
   ],
   "source": [
    "my_friend_list"
   ]
  },
  {
   "cell_type": "code",
   "execution_count": 92,
   "id": "700ceafb-cdae-42c9-b8fb-9e398c02fdd6",
   "metadata": {},
   "outputs": [],
   "source": [
    "my_friend = [] #Empty list"
   ]
  },
  {
   "cell_type": "code",
   "execution_count": 93,
   "id": "65c31cf4-c0b8-4ce3-9141-e34b31d565d1",
   "metadata": {},
   "outputs": [],
   "source": [
    "my_friend.append('Rafi') # Add data"
   ]
  },
  {
   "cell_type": "code",
   "execution_count": 94,
   "id": "b66b64ce-0c1c-4416-8700-a6c1a0b79102",
   "metadata": {},
   "outputs": [],
   "source": [
    "my_friend.append('Sworna') # Add data"
   ]
  },
  {
   "cell_type": "code",
   "execution_count": 95,
   "id": "99c3b373-a159-4c7a-929f-b943ace3481d",
   "metadata": {},
   "outputs": [
    {
     "data": {
      "text/plain": [
       "['Rafi', 'Sworna']"
      ]
     },
     "execution_count": 95,
     "metadata": {},
     "output_type": "execute_result"
    }
   ],
   "source": [
    "my_friend"
   ]
  },
  {
   "cell_type": "code",
   "execution_count": 96,
   "id": "7415826b-e21b-4ee9-bec2-4a268dbce1a3",
   "metadata": {},
   "outputs": [
    {
     "data": {
      "text/plain": [
       "'Rafi'"
      ]
     },
     "execution_count": 96,
     "metadata": {},
     "output_type": "execute_result"
    }
   ],
   "source": [
    "my_friend.pop(0) #Remove data"
   ]
  },
  {
   "cell_type": "code",
   "execution_count": 97,
   "id": "a16f6e4d-6e7d-4479-8a92-6d9c33aea4d8",
   "metadata": {},
   "outputs": [
    {
     "data": {
      "text/plain": [
       "['Sworna']"
      ]
     },
     "execution_count": 97,
     "metadata": {},
     "output_type": "execute_result"
    }
   ],
   "source": [
    "my_friend"
   ]
  },
  {
   "cell_type": "code",
   "execution_count": null,
   "id": "df96013b-147b-4516-b563-312eb4c9fa8b",
   "metadata": {},
   "outputs": [],
   "source": []
  }
 ],
 "metadata": {
  "kernelspec": {
   "display_name": "Python 3 (ipykernel)",
   "language": "python",
   "name": "python3"
  },
  "language_info": {
   "codemirror_mode": {
    "name": "ipython",
    "version": 3
   },
   "file_extension": ".py",
   "mimetype": "text/x-python",
   "name": "python",
   "nbconvert_exporter": "python",
   "pygments_lexer": "ipython3",
   "version": "3.12.9"
  }
 },
 "nbformat": 4,
 "nbformat_minor": 5
}
