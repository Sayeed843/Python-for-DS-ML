{
 "cells": [
  {
   "cell_type": "code",
   "execution_count": 1,
   "id": "81c64893-496b-4c9f-8d77-e74f9afb485f",
   "metadata": {},
   "outputs": [
    {
     "data": {
      "text/plain": [
       "1"
      ]
     },
     "execution_count": 1,
     "metadata": {},
     "output_type": "execute_result"
    }
   ],
   "source": [
    "1"
   ]
  },
  {
   "cell_type": "code",
   "execution_count": 2,
   "id": "566bc24d-9a18-41fa-866a-b6011dba2526",
   "metadata": {},
   "outputs": [
    {
     "data": {
      "text/plain": [
       "1.0"
      ]
     },
     "execution_count": 2,
     "metadata": {},
     "output_type": "execute_result"
    }
   ],
   "source": [
    "1.0"
   ]
  },
  {
   "cell_type": "code",
   "execution_count": 3,
   "id": "77f79041-f029-4447-aeb1-5f6c026ccf0a",
   "metadata": {},
   "outputs": [
    {
     "data": {
      "text/plain": [
       "2"
      ]
     },
     "execution_count": 3,
     "metadata": {},
     "output_type": "execute_result"
    }
   ],
   "source": [
    "1+1"
   ]
  },
  {
   "cell_type": "code",
   "execution_count": 4,
   "id": "013fc3b5-76e2-4a35-a23d-9a813323fa67",
   "metadata": {},
   "outputs": [
    {
     "data": {
      "text/plain": [
       "3"
      ]
     },
     "execution_count": 4,
     "metadata": {},
     "output_type": "execute_result"
    }
   ],
   "source": [
    "1*3"
   ]
  },
  {
   "cell_type": "code",
   "execution_count": 6,
   "id": "d2bebc56-1d07-4e22-a4b3-74df3debbf7b",
   "metadata": {},
   "outputs": [
    {
     "data": {
      "text/plain": [
       "0.5"
      ]
     },
     "execution_count": 6,
     "metadata": {},
     "output_type": "execute_result"
    }
   ],
   "source": [
    "1/2.0"
   ]
  },
  {
   "cell_type": "code",
   "execution_count": 7,
   "id": "aceff6fe-8758-490c-bf1c-d2000ffb926c",
   "metadata": {},
   "outputs": [
    {
     "data": {
      "text/plain": [
       "16"
      ]
     },
     "execution_count": 7,
     "metadata": {},
     "output_type": "execute_result"
    }
   ],
   "source": [
    "2**4"
   ]
  },
  {
   "cell_type": "code",
   "execution_count": 8,
   "id": "dca670e7-eaa4-407a-9e3f-25f2a4c1d561",
   "metadata": {},
   "outputs": [
    {
     "data": {
      "text/plain": [
       "22"
      ]
     },
     "execution_count": 8,
     "metadata": {},
     "output_type": "execute_result"
    }
   ],
   "source": [
    "2+3*5+5"
   ]
  },
  {
   "cell_type": "code",
   "execution_count": 9,
   "id": "d8618565-16a9-4167-b404-37f8528c14f7",
   "metadata": {},
   "outputs": [
    {
     "data": {
      "text/plain": [
       "50"
      ]
     },
     "execution_count": 9,
     "metadata": {},
     "output_type": "execute_result"
    }
   ],
   "source": [
    "(2+3)*(5+5)"
   ]
  },
  {
   "cell_type": "code",
   "execution_count": 10,
   "id": "69c13717-aa94-4cde-b2c0-789bb2c84ee7",
   "metadata": {},
   "outputs": [
    {
     "data": {
      "text/plain": [
       "0"
      ]
     },
     "execution_count": 10,
     "metadata": {},
     "output_type": "execute_result"
    }
   ],
   "source": [
    "4%2"
   ]
  },
  {
   "cell_type": "code",
   "execution_count": 11,
   "id": "957a300a-105d-4e43-b156-f09081ec35c7",
   "metadata": {},
   "outputs": [
    {
     "data": {
      "text/plain": [
       "1"
      ]
     },
     "execution_count": 11,
     "metadata": {},
     "output_type": "execute_result"
    }
   ],
   "source": [
    "7%3"
   ]
  },
  {
   "cell_type": "code",
   "execution_count": 12,
   "id": "32e39769-fb0e-46ac-989e-fcaa7d03a674",
   "metadata": {},
   "outputs": [],
   "source": [
    "var = 2 "
   ]
  },
  {
   "cell_type": "code",
   "execution_count": 13,
   "id": "ad5383c7-8166-4596-a1ed-1686af785390",
   "metadata": {},
   "outputs": [],
   "source": [
    "x = 2 \n",
    "y = 3"
   ]
  },
  {
   "cell_type": "code",
   "execution_count": 14,
   "id": "5b3c8eb4-26ab-4454-af60-b85acb59cf2f",
   "metadata": {},
   "outputs": [
    {
     "data": {
      "text/plain": [
       "5"
      ]
     },
     "execution_count": 14,
     "metadata": {},
     "output_type": "execute_result"
    }
   ],
   "source": [
    "x+y"
   ]
  },
  {
   "cell_type": "code",
   "execution_count": 19,
   "id": "b221f1c5-54ff-4d8f-a281-b04adf39a960",
   "metadata": {},
   "outputs": [],
   "source": [
    "x=x+x"
   ]
  },
  {
   "cell_type": "code",
   "execution_count": 20,
   "id": "925191cd-4464-4274-a9db-065c6ad5fd37",
   "metadata": {},
   "outputs": [
    {
     "data": {
      "text/plain": [
       "32"
      ]
     },
     "execution_count": 20,
     "metadata": {},
     "output_type": "execute_result"
    }
   ],
   "source": [
    "x"
   ]
  },
  {
   "cell_type": "code",
   "execution_count": 21,
   "id": "02743663-c3c4-42fe-bbeb-6f2271ab67fb",
   "metadata": {},
   "outputs": [],
   "source": [
    "name_of_var = 12"
   ]
  },
  {
   "cell_type": "code",
   "execution_count": 22,
   "id": "06d31ba4-771a-4018-85a1-64e7112083ef",
   "metadata": {},
   "outputs": [
    {
     "data": {
      "text/plain": [
       "' single quote '"
      ]
     },
     "execution_count": 22,
     "metadata": {},
     "output_type": "execute_result"
    }
   ],
   "source": [
    "' single quote '"
   ]
  },
  {
   "cell_type": "code",
   "execution_count": 23,
   "id": "839172bf-31ca-43e3-bc44-cef29fac5e84",
   "metadata": {},
   "outputs": [
    {
     "data": {
      "text/plain": [
       "'THis is also a string'"
      ]
     },
     "execution_count": 23,
     "metadata": {},
     "output_type": "execute_result"
    }
   ],
   "source": [
    "\"THis is also a string\""
   ]
  },
  {
   "cell_type": "code",
   "execution_count": 24,
   "id": "77f2489b-4d10-4d94-b8ca-a0139c43a5cb",
   "metadata": {},
   "outputs": [
    {
     "data": {
      "text/plain": [
       "\"I can't go\""
      ]
     },
     "execution_count": 24,
     "metadata": {},
     "output_type": "execute_result"
    }
   ],
   "source": [
    "\"I can't go\""
   ]
  },
  {
   "cell_type": "code",
   "execution_count": 25,
   "id": "3985fbe7-0aee-41ff-9f2c-e3e4cbb3b859",
   "metadata": {},
   "outputs": [],
   "source": [
    "x='hello'"
   ]
  },
  {
   "cell_type": "code",
   "execution_count": 26,
   "id": "f5f85567-fb7b-4157-932e-72355c242f93",
   "metadata": {},
   "outputs": [
    {
     "data": {
      "text/plain": [
       "'hello'"
      ]
     },
     "execution_count": 26,
     "metadata": {},
     "output_type": "execute_result"
    }
   ],
   "source": [
    "x"
   ]
  },
  {
   "cell_type": "code",
   "execution_count": 27,
   "id": "10abcca2-3558-4bae-835d-303aeee996bf",
   "metadata": {},
   "outputs": [
    {
     "name": "stdout",
     "output_type": "stream",
     "text": [
      "hello\n"
     ]
    }
   ],
   "source": [
    "print(x)"
   ]
  },
  {
   "cell_type": "code",
   "execution_count": 29,
   "id": "37e062a6-6230-402d-88f3-3c896c300287",
   "metadata": {},
   "outputs": [],
   "source": [
    "num=12\n",
    "name='Sam'"
   ]
  },
  {
   "cell_type": "code",
   "execution_count": 30,
   "id": "2a694517-566f-493a-a277-80fec45520b7",
   "metadata": {},
   "outputs": [
    {
     "data": {
      "text/plain": [
       "'My number is 12 and my name is Sam'"
      ]
     },
     "execution_count": 30,
     "metadata": {},
     "output_type": "execute_result"
    }
   ],
   "source": [
    "'My number is {} and my name is {}'.format(num, name)"
   ]
  },
  {
   "cell_type": "code",
   "execution_count": 31,
   "id": "adcddfc2-5ba9-4877-b20b-dd1f466ac74b",
   "metadata": {},
   "outputs": [
    {
     "name": "stdout",
     "output_type": "stream",
     "text": [
      "My number is 12 and my name is Sam\n"
     ]
    }
   ],
   "source": [
    "print('My number is {} and my name is {}'.format(num, name))"
   ]
  },
  {
   "cell_type": "code",
   "execution_count": 33,
   "id": "73f9b602-6329-43c4-b3aa-b0f31b985eeb",
   "metadata": {},
   "outputs": [
    {
     "name": "stdout",
     "output_type": "stream",
     "text": [
      "My number is 12 and my name is Sam\n"
     ]
    }
   ],
   "source": [
    "print('My number is {one} and my name is {two}'.format(one= num, two= name))"
   ]
  },
  {
   "cell_type": "code",
   "execution_count": 34,
   "id": "388f550a-019e-4281-88c4-2de035f87665",
   "metadata": {},
   "outputs": [],
   "source": [
    "s='hello'"
   ]
  },
  {
   "cell_type": "code",
   "execution_count": 35,
   "id": "12ac6eb9-b0c0-4e15-8c5f-43c68f5a5a69",
   "metadata": {},
   "outputs": [
    {
     "data": {
      "text/plain": [
       "'h'"
      ]
     },
     "execution_count": 35,
     "metadata": {},
     "output_type": "execute_result"
    }
   ],
   "source": [
    "s[0]"
   ]
  },
  {
   "cell_type": "code",
   "execution_count": 36,
   "id": "61c2335c-4dba-4028-a9da-d2aae5dbcdba",
   "metadata": {},
   "outputs": [
    {
     "data": {
      "text/plain": [
       "'o'"
      ]
     },
     "execution_count": 36,
     "metadata": {},
     "output_type": "execute_result"
    }
   ],
   "source": [
    "s[-1]"
   ]
  },
  {
   "cell_type": "code",
   "execution_count": 37,
   "id": "b5b5c0c0-f500-44d3-941d-1e9a118dbe4d",
   "metadata": {},
   "outputs": [
    {
     "data": {
      "text/plain": [
       "'o'"
      ]
     },
     "execution_count": 37,
     "metadata": {},
     "output_type": "execute_result"
    }
   ],
   "source": [
    "s[4]"
   ]
  },
  {
   "cell_type": "code",
   "execution_count": 38,
   "id": "f8a1518a-93fd-46ae-b1ed-a1a33bbc383c",
   "metadata": {},
   "outputs": [],
   "source": [
    "s='abcdefghijk'"
   ]
  },
  {
   "cell_type": "code",
   "execution_count": 39,
   "id": "66a5c982-80b7-4de2-a9f5-da8bf952dcce",
   "metadata": {},
   "outputs": [
    {
     "data": {
      "text/plain": [
       "'abcde'"
      ]
     },
     "execution_count": 39,
     "metadata": {},
     "output_type": "execute_result"
    }
   ],
   "source": [
    "s[0:5]"
   ]
  },
  {
   "cell_type": "code",
   "execution_count": 40,
   "id": "121db7da-2a3c-4d39-9649-00a6caf862dd",
   "metadata": {},
   "outputs": [
    {
     "data": {
      "text/plain": [
       "'abcde'"
      ]
     },
     "execution_count": 40,
     "metadata": {},
     "output_type": "execute_result"
    }
   ],
   "source": [
    "s[0:5:1]"
   ]
  },
  {
   "cell_type": "code",
   "execution_count": 42,
   "id": "0521e137-ecc7-4de4-b5f0-82582ecc13ce",
   "metadata": {},
   "outputs": [
    {
     "data": {
      "text/plain": [
       "'ace'"
      ]
     },
     "execution_count": 42,
     "metadata": {},
     "output_type": "execute_result"
    }
   ],
   "source": [
    "s[0:5:2] # starting index : ending position : Step"
   ]
  },
  {
   "cell_type": "code",
   "execution_count": 43,
   "id": "7bc4543f-a667-4386-8d47-ac401f28931b",
   "metadata": {},
   "outputs": [
    {
     "data": {
      "text/plain": [
       "'def'"
      ]
     },
     "execution_count": 43,
     "metadata": {},
     "output_type": "execute_result"
    }
   ],
   "source": [
    "s[3:6]"
   ]
  },
  {
   "cell_type": "code",
   "execution_count": 44,
   "id": "cded5fb1-3ffd-40ff-a28a-effe73a7e2d1",
   "metadata": {},
   "outputs": [
    {
     "data": {
      "text/plain": [
       "[1, 2, 3, 4]"
      ]
     },
     "execution_count": 44,
     "metadata": {},
     "output_type": "execute_result"
    }
   ],
   "source": [
    "[1,2,3,4]"
   ]
  },
  {
   "cell_type": "code",
   "execution_count": 45,
   "id": "7711dc8d-f97b-4780-8d17-97c20a766a10",
   "metadata": {},
   "outputs": [
    {
     "data": {
      "text/plain": [
       "['a', 'b', 'c']"
      ]
     },
     "execution_count": 45,
     "metadata": {},
     "output_type": "execute_result"
    }
   ],
   "source": [
    "['a','b','c']"
   ]
  },
  {
   "cell_type": "code",
   "execution_count": 46,
   "id": "ee32ab94-cffd-45a4-8f3c-1139e2d4443e",
   "metadata": {},
   "outputs": [],
   "source": [
    "my_list=['a','b','c']"
   ]
  },
  {
   "cell_type": "code",
   "execution_count": 47,
   "id": "983630fc-527b-4a00-b35e-07c0dc6e4d8e",
   "metadata": {},
   "outputs": [],
   "source": [
    "my_list.append('d')"
   ]
  },
  {
   "cell_type": "code",
   "execution_count": 48,
   "id": "48e677dd-286f-4655-a067-7a90d2e9b4fd",
   "metadata": {},
   "outputs": [
    {
     "data": {
      "text/plain": [
       "['a', 'b', 'c', 'd']"
      ]
     },
     "execution_count": 48,
     "metadata": {},
     "output_type": "execute_result"
    }
   ],
   "source": [
    "my_list"
   ]
  },
  {
   "cell_type": "code",
   "execution_count": 49,
   "id": "a5f1a4a2-ee70-42ce-afb1-4c5845944227",
   "metadata": {},
   "outputs": [
    {
     "data": {
      "text/plain": [
       "['a', 'b', 'c']"
      ]
     },
     "execution_count": 49,
     "metadata": {},
     "output_type": "execute_result"
    }
   ],
   "source": [
    "my_list[0:3]"
   ]
  },
  {
   "cell_type": "code",
   "execution_count": 50,
   "id": "14e026d5-87ee-4444-8b67-1c2b82fd082e",
   "metadata": {},
   "outputs": [],
   "source": [
    "my_list[0]='new'"
   ]
  },
  {
   "cell_type": "code",
   "execution_count": 51,
   "id": "ff5cf8c1-6cde-42e0-9a15-46a68f47fa48",
   "metadata": {},
   "outputs": [],
   "source": [
    "nest= [1,2,[3,4]]"
   ]
  },
  {
   "cell_type": "code",
   "execution_count": 52,
   "id": "127a5fe6-616a-4ea2-b76b-f2869a464797",
   "metadata": {},
   "outputs": [
    {
     "data": {
      "text/plain": [
       "[1, 2, [3, 4]]"
      ]
     },
     "execution_count": 52,
     "metadata": {},
     "output_type": "execute_result"
    }
   ],
   "source": [
    "nest"
   ]
  },
  {
   "cell_type": "code",
   "execution_count": 53,
   "id": "7ea8ba5e-92c1-432f-81bf-5a8e77385376",
   "metadata": {},
   "outputs": [
    {
     "data": {
      "text/plain": [
       "4"
      ]
     },
     "execution_count": 53,
     "metadata": {},
     "output_type": "execute_result"
    }
   ],
   "source": [
    "nest[2][1]"
   ]
  },
  {
   "cell_type": "code",
   "execution_count": 54,
   "id": "15430b26-8951-4903-82c0-eda59d619be5",
   "metadata": {},
   "outputs": [],
   "source": [
    "nest=[1,2,3,[5,6,['target']]]"
   ]
  },
  {
   "cell_type": "code",
   "execution_count": 55,
   "id": "638d25a4-bdf1-4764-b171-985a78e62da1",
   "metadata": {},
   "outputs": [
    {
     "data": {
      "text/plain": [
       "[5, 6, ['target']]"
      ]
     },
     "execution_count": 55,
     "metadata": {},
     "output_type": "execute_result"
    }
   ],
   "source": [
    "nest[3]"
   ]
  },
  {
   "cell_type": "code",
   "execution_count": 56,
   "id": "9f85ba2b-9f2f-44f9-903a-8a7685d4c613",
   "metadata": {},
   "outputs": [
    {
     "data": {
      "text/plain": [
       "['target']"
      ]
     },
     "execution_count": 56,
     "metadata": {},
     "output_type": "execute_result"
    }
   ],
   "source": [
    "nest[3][2]"
   ]
  },
  {
   "cell_type": "code",
   "execution_count": 57,
   "id": "6d4a66cf-6b0a-44a3-ad54-172224fd808f",
   "metadata": {},
   "outputs": [
    {
     "data": {
      "text/plain": [
       "'target'"
      ]
     },
     "execution_count": 57,
     "metadata": {},
     "output_type": "execute_result"
    }
   ],
   "source": [
    "nest[3][2][0]"
   ]
  },
  {
   "cell_type": "code",
   "execution_count": 58,
   "id": "fe095067-c3fc-4f3c-813f-4af40432b03a",
   "metadata": {},
   "outputs": [
    {
     "data": {
      "text/plain": [
       "'t'"
      ]
     },
     "execution_count": 58,
     "metadata": {},
     "output_type": "execute_result"
    }
   ],
   "source": [
    "nest[3][2][0][0]"
   ]
  },
  {
   "cell_type": "code",
   "execution_count": null,
   "id": "90a48daa-bb67-4f51-9e1f-499153b822d4",
   "metadata": {},
   "outputs": [],
   "source": []
  }
 ],
 "metadata": {
  "kernelspec": {
   "display_name": "Python 3 (ipykernel)",
   "language": "python",
   "name": "python3"
  },
  "language_info": {
   "codemirror_mode": {
    "name": "ipython",
    "version": 3
   },
   "file_extension": ".py",
   "mimetype": "text/x-python",
   "name": "python",
   "nbconvert_exporter": "python",
   "pygments_lexer": "ipython3",
   "version": "3.12.9"
  }
 },
 "nbformat": 4,
 "nbformat_minor": 5
}
