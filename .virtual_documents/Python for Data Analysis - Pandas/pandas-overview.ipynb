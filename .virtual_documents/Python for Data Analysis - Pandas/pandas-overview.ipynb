


!pip install pandas==2.2.3
!pip install numpy==2.2.5


import numpy as np 
import pandas as pd


labels = ['a','b','c']
my_data= [10,20,30]
arr = np.array(my_data)
d = {'a': 10, 'b': 20, 'c':30}


pd.Series(data=my_data)


pd.Series(data=my_data, index=labels)


pd.Series(my_data, labels)


pd.Series(arr)


pd.Series(arr, labels)


pd.Series(d)


pd.Series(data=[sum, print, len])


ser1 = pd.Series([1,2,3,4], ['USA', 'Germany', 'USSR', 'Japan'])


ser1


ser2= pd.Series([1,2,5,4], ['USA','Germany','Italy','Japan'])


ser2


ser1['USA']


ser3=pd.Series(data=labels)


ser3


ser3[2]


ser1+ser2








import numpy as np 
import pandas as pd


from numpy.random import randn


np.random.seed(101)


df=pd.DataFrame(randn(5,4),['A','B','C','D','E'],['W','X','Y','Z'])


df


df['W']


type(df['W'])


type(df)


df.W


df['X']


df[['W','Z']]


df['new']


df['new'] = df['W']+df['Y']


df


df.drop('new')


df.drop('new', axis=1)  # Axis 0 means row, and 1 means column


df 


df.drop('new', axis=1, inplace=True) # Parmenently delete new column


df.drop('E', axis=0)


df


df.shape # axis-0=5 and axis-1=4


df['Y']


df[['Z','X']]


df[['Z','X']]


#Rows


df


df.loc['A']


df.loc['D']


df.iloc[3] #index position of rows


df.loc['B','Y'] # Single data grap by row and column name


df.loc[['A','B'],['W','Y']]


df.loc[['A','C']]











df


df > 0


df[df>0]


df


df['W'] > 0


df[df['W'] > 0]


df[df['Z']<0]


resultdf = df[df['W']>0]


resultdf


resultdf['X']


df[df['W']>0]['X']


df[df['W']>0][['X','Y']]


boolser = df['W']>0
result = df[boolser]
mycols = ['Y','X']
result[mycols]


df[df['W']>0]


df[(df['W']>0) and (df['Y']>1)]


df[(df['W']>0) & (df['Y']>1)]


df[(df['W']>0) | (df['Y']>1)]


df


df.reset_index() # For permanent, use inplace = True 


df


newind= 'CA NY WY OR CO'.split()


newind


df['States'] = newind


df


df.set_index('States') # For permanent use inplace=True








import numpy as np
import pandas as pd
from numpy.random import randn


outside = ['G1', 'G1', 'G1', 'G2', 'G2', 'G2']
inside = [1,2,3,1,2,3]
hier_index = list(zip(outside, inside))
hier_index = pd.MultiIndex.from_tuples(hier_index)


outside


inside 


list(zip(outside, inside))


hier_index


df = pd.DataFrame(randn(6,2), hier_index, ['A', 'B'])


df


df.loc['G1']


df.loc['G1'].loc[1]


df.loc['G1'].loc[1]['A']


df.index.names


df.index.names=['Groups', 'Num']


df


df.loc['G2']


df.loc['G2'].loc[2]


df.loc['G2'].loc[2]['B']





df


df.xs('G1')


df.xs(1, level='Num')








import numpy as np
import pandas as pd


d = {'A':[1,2,np.nan], 'B':[5,np.nan, np.nan], 'C':[1,2,3]}


df = pd.DataFrame(d)


df


df.dropna() # by default it will drop nan columns 


df.dropna(axis=1) # axis 0 for columns and axis 1 for rows


df.dropna(axis=0, thresh=2) # Row two has allast 2 non-nan value


df.dropna(axis=0, thresh=3) 


df


df.fillna(value='Fill Value')


df


df['A'].fillna(value=df['A'].mean())


df














import numpy as np
import pandas as pd


data = {'Company':['GOOG','GOOG','MSFT', 'MSFT', 'FB', 'FB'],
       'Person': ['Sam', 'Charlie', 'Amy', 'Vanessa', 'Carl', 'Sarah'],
        'Sales': [200, 120, 340, 124,243, 350]
       }


df = pd.DataFrame((data))


df


df.groupby('Company')


byComp = df.groupby('Company')


byComp.mean(numeric_only=True)  # Error 


byComp.sum(numeric_only=True) # Error 


byComp.std(numeric_only=True)


byComp.sum(numeric_only=True).loc['FB']


df.groupby('Company').sum(numeric_only=True).loc['FB']


df.groupby('Company').count()


df.groupby('Company').max()


df.groupby('Company').min()


df.groupby('Company').describe()


df.groupby('Company').describe().loc['FB']


df.groupby('Company').describe().transpose()


df.groupby('Company').describe().transpose()['FB']








import pandas as pd


df1 = pd.DataFrame({
    'A':['A0', 'A1', 'A2', 'A3'],
    'B':['B0', 'B1', 'B2', 'B3'],
    'C':['C0', 'C1', 'C2', 'C3'],
    'D':['D0', 'D1', 'D2', 'D3']},
    index=[0,1,2,3])


df2 = pd.DataFrame({
    'A':['A4', 'A5', 'A6', 'A7'],
    'B':['B4', 'B5', 'B6', 'B7'],
    'C':['C4', 'C5', 'C6', 'C7'],
    'D':['D4', 'D5', 'D6', 'D7']},
    index=[4,5,6,7])


df3 = pd.DataFrame({
    'A':['A8', 'A9', 'A10', 'A11'],
    'B':['B8', 'B9', 'B10', 'B11'],
    'C':['C8', 'C9', 'C10', 'C11'],
    'D':['D8', 'D9', 'D10', 'D11']},
    index=[8,9,10,11])


df1


df2 


df3


pd.concat([df1, df2, df3]) # Rowwise


pd.concat([df1, df2, df3], axis=1) # Columnwise


left = pd.DataFrame({
    'key':['K0','K1','K2','K3'],
    'A': ['A0', 'A1', 'A2', 'A3'],
    'B': ['B0', 'B1', 'B2', 'B3']
})


right = pd.DataFrame({
    'key':['K0','K1','K2','K3'],
    'C': ['C0', 'C1', 'C2', 'C3'],
    'D': ['D0', 'D1', 'D2', 'D3']
})


left


right


pd.merge(left, right, how='inner', on='key')


left = pd.DataFrame({
    'key1': ['K0', 'K0', 'K1', 'K2'],
    'key2':['K0', 'K1', 'K0', 'K1'],
    'A':['A0', 'A1', 'A2', 'A3'],
    'B':['B0', 'B1', 'B2', 'B3']
})


right = pd.DataFrame({
    'key1': ['K0', 'K1', 'K1', 'K2'],
    'key2':['K0', 'K0', 'K0', 'K0'],
    'C':['C0', 'C1', 'C2', 'C3'],
    'D':['D0', 'D1', 'D2', 'D3']
})


pd.merge(left, right, on=['key1', 'key2'])


pd.merge(left, right, how='outer', on=['key1', 'key2'])


pd.merge(left, right, how='left', on=['key1', 'key2'])


pd.merge(left, right, how='right', on=['key1', 'key2'])


## Joining 


left=pd.DataFrame({
    'A':['A0', 'A1', 'A2'],
    'B':['B0', 'B1', 'B2']},
    index=['K0', 'K1', 'K2'])


right=pd.DataFrame({
    'C':['C0', 'C1', 'C2'],
    'D':['D0', 'D1', 'D2']},
    index=['K0', 'K2', 'K3'])


left.join(right)


left.join(right, how='outer')








import numpy as np
import pandas as pd


df = pd.DataFrame({
    'col1':[1,2,3,4],
    'col2':[444,555,666,444],
    'col3':['abc', 'def', 'ghi', 'xyz']
})


df.head()


df['col2']


df['col2'].unique()


len(df['col2'].unique())


df['col2'].nunique()


df['col2'].value_counts()


df


df[df['col1'] > 2]


df['col1'] > 2


df[(df['col1'] > 2) & (df['col2'] == 444)]


def times2(x):
    return x*2


df['col1']


df['col1'].sum()


df['col1'].apply(times2)


df['col3'].apply(len)


df['col2'].apply(lambda x:x*2)


df 


df.drop('col1', axis=1)


df


df.columns


df.index


df


df.sort_values(by='col2')


df.isnull()


data = {
    'A':['foo', 'foo', 'foo', 'bar', 'bar', 'bar'],
    'B': ['one', 'one', 'two', 'two', 'one', 'one'],
    'C': ['x', 'y', 'x', 'y', 'x', 'y'],
    'D': [1,3,2,5,4,1]
}


df = pd.DataFrame(data)


df





df.pivot_table(values='D', index= ['A', 'B'], columns=['C'])






